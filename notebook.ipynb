{
 "cells": [
  {
   "cell_type": "markdown",
   "metadata": {
    "id": "H9wADwK78DCz"
   },
   "source": [
    "# Proyek Analisis Data: Brazilian E-Commerce Public Dataset by Olist\n",
    "- **Nama:** Albar Pambagio Arioseto\n",
    "- **Email:** albarpambagio@gmail.com\n",
    "- **ID Dicoding:** albarpambagio "
   ]
  },
  {
   "cell_type": "markdown",
   "metadata": {
    "id": "eE0raob58DC0"
   },
   "source": [
    "## Menentukan Pertanyaan Bisnis"
   ]
  },
  {
   "cell_type": "markdown",
   "metadata": {
    "id": "GmQeQ5YF8DC0"
   },
   "source": [
    "- bagaimana performa penjualan dari sao paulo pada tahun 2018?\n",
    "- bagaimana performa skor review produk dari sao paulo pada tahun 2018?"
   ]
  },
  {
   "cell_type": "markdown",
   "metadata": {
    "id": "H-z4QGlO8DC1"
   },
   "source": [
    "## Import Semua Packages/Library yang Digunakan"
   ]
  },
  {
   "cell_type": "code",
   "execution_count": 19,
   "metadata": {
    "execution": {
     "iopub.execute_input": "2025-04-17T03:07:13.714788Z",
     "iopub.status.busy": "2025-04-17T03:07:13.714484Z",
     "iopub.status.idle": "2025-04-17T03:07:15.160254Z",
     "shell.execute_reply": "2025-04-17T03:07:15.159306Z",
     "shell.execute_reply.started": "2025-04-17T03:07:13.714764Z"
    },
    "id": "FVYwaObI8DC1",
    "trusted": true
   },
   "outputs": [],
   "source": [
    "import pandas as pd\n",
    "import altair as alt\n",
    "import numpy as np\n",
    "from datetime import datetime"
   ]
  },
  {
   "cell_type": "markdown",
   "metadata": {
    "id": "h_Sh51Xy8DC1"
   },
   "source": [
    "## Data Wrangling"
   ]
  },
  {
   "cell_type": "markdown",
   "metadata": {
    "id": "sXU2GBYu8DC1"
   },
   "source": [
    "### Gathering Data"
   ]
  },
  {
   "cell_type": "code",
   "execution_count": null,
   "metadata": {
    "execution": {
     "iopub.execute_input": "2025-04-17T03:07:15.162359Z",
     "iopub.status.busy": "2025-04-17T03:07:15.161781Z",
     "iopub.status.idle": "2025-04-17T03:07:16.625281Z",
     "shell.execute_reply": "2025-04-17T03:07:16.624232Z",
     "shell.execute_reply.started": "2025-04-17T03:07:15.162323Z"
    },
    "id": "zjCBk1BI8DC1",
    "trusted": true
   },
   "outputs": [],
   "source": [
    "orders = pd.read_csv('data/olist_orders_dataset.csv')\n",
    "customers = pd.read_csv('data/olist_customers_dataset.csv')\n",
    "payments = pd.read_csv('data/olist_order_payments_dataset.csv')\n",
    "reviews = pd.read_csv('data/olist_order_reviews_dataset.csv')"
   ]
  },
  {
   "cell_type": "code",
   "execution_count": 20,
   "metadata": {},
   "outputs": [],
   "source": [
    "# Filter for São Paulo customers only\n",
    "sao_paulo_customers = customers[customers['customer_state'] == 'SP']['customer_id'].unique()"
   ]
  },
  {
   "cell_type": "code",
   "execution_count": 21,
   "metadata": {},
   "outputs": [],
   "source": [
    "# Filter orders by São Paulo customers\n",
    "sao_paulo_orders = orders[orders['customer_id'].isin(sao_paulo_customers)]"
   ]
  },
  {
   "cell_type": "code",
   "execution_count": null,
   "metadata": {},
   "outputs": [
    {
     "name": "stderr",
     "output_type": "stream",
     "text": [
      "C:\\Users\\USER\\AppData\\Local\\Temp\\ipykernel_25572\\2836108180.py:2: SettingWithCopyWarning: \n",
      "A value is trying to be set on a copy of a slice from a DataFrame.\n",
      "Try using .loc[row_indexer,col_indexer] = value instead\n",
      "\n",
      "See the caveats in the documentation: https://pandas.pydata.org/pandas-docs/stable/user_guide/indexing.html#returning-a-view-versus-a-copy\n",
      "  sao_paulo_orders['order_purchase_timestamp'] = pd.to_datetime(sao_paulo_orders['order_purchase_timestamp'])\n"
     ]
    }
   ],
   "source": [
    "# Filter orders for 2018 only\n",
    "sao_paulo_orders['order_purchase_timestamp'] = pd.to_datetime(sao_paulo_orders['order_purchase_timestamp'])\n",
    "sao_paulo_orders_2018 = sao_paulo_orders[\n",
    "    (sao_paulo_orders['order_purchase_timestamp'] >= '2018-01-01') & \n",
    "    (sao_paulo_orders['order_purchase_timestamp'] <= '2018-12-31')\n",
    "]"
   ]
  },
  {
   "cell_type": "code",
   "execution_count": 33,
   "metadata": {},
   "outputs": [],
   "source": [
    "# Get order_ids for 2018 São Paulo orders\n",
    "sp_order_ids_2018 = sao_paulo_orders_2018['order_id'].unique()"
   ]
  },
  {
   "cell_type": "code",
   "execution_count": 34,
   "metadata": {},
   "outputs": [],
   "source": [
    "# Get payment information for these orders\n",
    "sp_payments_2018 = payments[payments['order_id'].isin(sp_order_ids_2018)]\n",
    "\n",
    "# Get review information for these orders\n",
    "sp_reviews_2018 = reviews[reviews['order_id'].isin(sp_order_ids_2018)]"
   ]
  },
  {
   "cell_type": "code",
   "execution_count": 36,
   "metadata": {},
   "outputs": [
    {
     "name": "stderr",
     "output_type": "stream",
     "text": [
      "C:\\Users\\USER\\AppData\\Local\\Temp\\ipykernel_25572\\273568301.py:2: SettingWithCopyWarning: \n",
      "A value is trying to be set on a copy of a slice from a DataFrame.\n",
      "Try using .loc[row_indexer,col_indexer] = value instead\n",
      "\n",
      "See the caveats in the documentation: https://pandas.pydata.org/pandas-docs/stable/user_guide/indexing.html#returning-a-view-versus-a-copy\n",
      "  sp_reviews_2018['review_creation_date'] = pd.to_datetime(sp_reviews_2018['review_creation_date'])\n"
     ]
    }
   ],
   "source": [
    "# Convert review date to datetime\n",
    "sp_reviews_2018['review_creation_date'] = pd.to_datetime(sp_reviews_2018['review_creation_date'])"
   ]
  },
  {
   "cell_type": "code",
   "execution_count": 37,
   "metadata": {},
   "outputs": [
    {
     "name": "stderr",
     "output_type": "stream",
     "text": [
      "C:\\Users\\USER\\AppData\\Local\\Temp\\ipykernel_25572\\3366326652.py:2: SettingWithCopyWarning: \n",
      "A value is trying to be set on a copy of a slice from a DataFrame.\n",
      "Try using .loc[row_indexer,col_indexer] = value instead\n",
      "\n",
      "See the caveats in the documentation: https://pandas.pydata.org/pandas-docs/stable/user_guide/indexing.html#returning-a-view-versus-a-copy\n",
      "  sao_paulo_orders_2018['month'] = sao_paulo_orders_2018['order_purchase_timestamp'].dt.month\n",
      "C:\\Users\\USER\\AppData\\Local\\Temp\\ipykernel_25572\\3366326652.py:3: SettingWithCopyWarning: \n",
      "A value is trying to be set on a copy of a slice from a DataFrame.\n",
      "Try using .loc[row_indexer,col_indexer] = value instead\n",
      "\n",
      "See the caveats in the documentation: https://pandas.pydata.org/pandas-docs/stable/user_guide/indexing.html#returning-a-view-versus-a-copy\n",
      "  sp_reviews_2018['month'] = sp_reviews_2018['review_creation_date'].dt.month\n"
     ]
    }
   ],
   "source": [
    "# Extract month from timestamps\n",
    "sao_paulo_orders_2018['month'] = sao_paulo_orders_2018['order_purchase_timestamp'].dt.month\n",
    "sp_reviews_2018['month'] = sp_reviews_2018['review_creation_date'].dt.month"
   ]
  },
  {
   "cell_type": "markdown",
   "metadata": {
    "id": "MMi6xGaDkbCi"
   },
   "source": [
    "**Insight:**\n",
    "- dataset bersumber dari kaggle\n",
    "- format dataset: csv"
   ]
  },
  {
   "cell_type": "markdown",
   "metadata": {
    "id": "FHSiqaZp8DC1"
   },
   "source": [
    "### Assessing Data"
   ]
  },
  {
   "cell_type": "markdown",
   "metadata": {},
   "source": [
    "#### Checking missing value"
   ]
  },
  {
   "cell_type": "code",
   "execution_count": 69,
   "metadata": {},
   "outputs": [
    {
     "name": "stdout",
     "output_type": "stream",
     "text": [
      "<class 'pandas.core.frame.DataFrame'>\n",
      "Index: 24669 entries, 1 to 103881\n",
      "Data columns (total 5 columns):\n",
      " #   Column                Non-Null Count  Dtype  \n",
      "---  ------                --------------  -----  \n",
      " 0   order_id              24669 non-null  object \n",
      " 1   payment_sequential    24669 non-null  int64  \n",
      " 2   payment_type          24669 non-null  object \n",
      " 3   payment_installments  24669 non-null  int64  \n",
      " 4   payment_value         24669 non-null  float64\n",
      "dtypes: float64(1), int64(2), object(2)\n",
      "memory usage: 1.1+ MB\n"
     ]
    }
   ],
   "source": [
    "sp_payments_2018.info()"
   ]
  },
  {
   "cell_type": "code",
   "execution_count": 67,
   "metadata": {
    "execution": {
     "iopub.execute_input": "2025-04-17T03:07:16.626377Z",
     "iopub.status.busy": "2025-04-17T03:07:16.626096Z",
     "iopub.status.idle": "2025-04-17T03:07:16.683370Z",
     "shell.execute_reply": "2025-04-17T03:07:16.682108Z",
     "shell.execute_reply.started": "2025-04-17T03:07:16.626349Z"
    },
    "id": "ax-3tEjc9Cj1",
    "trusted": true
   },
   "outputs": [
    {
     "name": "stdout",
     "output_type": "stream",
     "text": [
      "<class 'pandas.core.frame.DataFrame'>\n",
      "Index: 23829 entries, 0 to 99218\n",
      "Data columns (total 8 columns):\n",
      " #   Column                   Non-Null Count  Dtype         \n",
      "---  ------                   --------------  -----         \n",
      " 0   review_id                23829 non-null  object        \n",
      " 1   order_id                 23829 non-null  object        \n",
      " 2   review_score             23829 non-null  int64         \n",
      " 3   review_comment_title     5040 non-null   object        \n",
      " 4   review_comment_message   9237 non-null   object        \n",
      " 5   review_creation_date     23829 non-null  datetime64[ns]\n",
      " 6   review_answer_timestamp  23829 non-null  object        \n",
      " 7   month                    23829 non-null  int32         \n",
      "dtypes: datetime64[ns](1), int32(1), int64(1), object(5)\n",
      "memory usage: 1.5+ MB\n"
     ]
    }
   ],
   "source": [
    "sp_reviews_2018.info()"
   ]
  },
  {
   "cell_type": "markdown",
   "metadata": {},
   "source": [
    "#### Checking duplicates"
   ]
  },
  {
   "cell_type": "code",
   "execution_count": 70,
   "metadata": {
    "execution": {
     "iopub.execute_input": "2025-04-17T03:07:16.786936Z",
     "iopub.status.busy": "2025-04-17T03:07:16.786446Z",
     "iopub.status.idle": "2025-04-17T03:07:16.866619Z",
     "shell.execute_reply": "2025-04-17T03:07:16.865866Z",
     "shell.execute_reply.started": "2025-04-17T03:07:16.786899Z"
    },
    "trusted": true
   },
   "outputs": [
    {
     "data": {
      "text/plain": [
       "np.int64(0)"
      ]
     },
     "execution_count": 70,
     "metadata": {},
     "output_type": "execute_result"
    }
   ],
   "source": [
    "sp_payments_2018.duplicated().sum()"
   ]
  },
  {
   "cell_type": "code",
   "execution_count": 71,
   "metadata": {
    "execution": {
     "iopub.execute_input": "2025-04-17T03:07:16.918998Z",
     "iopub.status.busy": "2025-04-17T03:07:16.918587Z",
     "iopub.status.idle": "2025-04-17T03:07:17.111529Z",
     "shell.execute_reply": "2025-04-17T03:07:17.110425Z",
     "shell.execute_reply.started": "2025-04-17T03:07:16.918964Z"
    },
    "trusted": true
   },
   "outputs": [
    {
     "data": {
      "text/plain": [
       "np.int64(0)"
      ]
     },
     "execution_count": 71,
     "metadata": {},
     "output_type": "execute_result"
    }
   ],
   "source": [
    "sp_reviews_2018.duplicated().sum()"
   ]
  },
  {
   "cell_type": "markdown",
   "metadata": {},
   "source": [
    "#### Checking outlier"
   ]
  },
  {
   "cell_type": "code",
   "execution_count": 60,
   "metadata": {
    "execution": {
     "iopub.execute_input": "2025-04-17T03:07:17.112769Z",
     "iopub.status.busy": "2025-04-17T03:07:17.112425Z",
     "iopub.status.idle": "2025-04-17T03:07:17.118256Z",
     "shell.execute_reply": "2025-04-17T03:07:17.117487Z",
     "shell.execute_reply.started": "2025-04-17T03:07:17.112738Z"
    },
    "trusted": true
   },
   "outputs": [],
   "source": [
    "def detect_outliers_iqr(df, column):\n",
    "    Q1 = df[column].quantile(0.25)\n",
    "    Q3 = df[column].quantile(0.75)\n",
    "    IQR = Q3 - Q1\n",
    "    lower_bound = Q1 - 1.5 * IQR\n",
    "    upper_bound = Q3 + 1.5 * IQR\n",
    "    outliers = df[(df[column] < lower_bound) | (df[column] > upper_bound)]\n",
    "    \n",
    "    return outliers"
   ]
  },
  {
   "cell_type": "code",
   "execution_count": 72,
   "metadata": {},
   "outputs": [
    {
     "data": {
      "text/html": [
       "<div>\n",
       "<style scoped>\n",
       "    .dataframe tbody tr th:only-of-type {\n",
       "        vertical-align: middle;\n",
       "    }\n",
       "\n",
       "    .dataframe tbody tr th {\n",
       "        vertical-align: top;\n",
       "    }\n",
       "\n",
       "    .dataframe thead th {\n",
       "        text-align: right;\n",
       "    }\n",
       "</style>\n",
       "<table border=\"1\" class=\"dataframe\">\n",
       "  <thead>\n",
       "    <tr style=\"text-align: right;\">\n",
       "      <th></th>\n",
       "      <th>order_id</th>\n",
       "      <th>payment_sequential</th>\n",
       "      <th>payment_type</th>\n",
       "      <th>payment_installments</th>\n",
       "      <th>payment_value</th>\n",
       "    </tr>\n",
       "  </thead>\n",
       "  <tbody>\n",
       "    <tr>\n",
       "      <th>26</th>\n",
       "      <td>d0a945f85ba1074b60aac97ade7e240e</td>\n",
       "      <td>1</td>\n",
       "      <td>credit_card</td>\n",
       "      <td>2</td>\n",
       "      <td>541.00</td>\n",
       "    </tr>\n",
       "    <tr>\n",
       "      <th>52</th>\n",
       "      <td>2e2c60b99754ae1e4d8b18846cfec9f2</td>\n",
       "      <td>1</td>\n",
       "      <td>credit_card</td>\n",
       "      <td>4</td>\n",
       "      <td>542.66</td>\n",
       "    </tr>\n",
       "    <tr>\n",
       "      <th>54</th>\n",
       "      <td>95442deb81a5d91c97c0df96b431634a</td>\n",
       "      <td>1</td>\n",
       "      <td>boleto</td>\n",
       "      <td>1</td>\n",
       "      <td>368.98</td>\n",
       "    </tr>\n",
       "    <tr>\n",
       "      <th>172</th>\n",
       "      <td>1594012ccc1b0770373ce691d697e5ae</td>\n",
       "      <td>1</td>\n",
       "      <td>credit_card</td>\n",
       "      <td>8</td>\n",
       "      <td>362.17</td>\n",
       "    </tr>\n",
       "    <tr>\n",
       "      <th>177</th>\n",
       "      <td>b545ba7b0bd67a3128185c7214704319</td>\n",
       "      <td>1</td>\n",
       "      <td>credit_card</td>\n",
       "      <td>8</td>\n",
       "      <td>340.08</td>\n",
       "    </tr>\n",
       "    <tr>\n",
       "      <th>...</th>\n",
       "      <td>...</td>\n",
       "      <td>...</td>\n",
       "      <td>...</td>\n",
       "      <td>...</td>\n",
       "      <td>...</td>\n",
       "    </tr>\n",
       "    <tr>\n",
       "      <th>103465</th>\n",
       "      <td>656689d74b6f04ec228f13e98fc9b15b</td>\n",
       "      <td>1</td>\n",
       "      <td>boleto</td>\n",
       "      <td>1</td>\n",
       "      <td>548.90</td>\n",
       "    </tr>\n",
       "    <tr>\n",
       "      <th>103484</th>\n",
       "      <td>0cf1684e713ddfe42529ec72206b25b3</td>\n",
       "      <td>1</td>\n",
       "      <td>credit_card</td>\n",
       "      <td>10</td>\n",
       "      <td>551.49</td>\n",
       "    </tr>\n",
       "    <tr>\n",
       "      <th>103498</th>\n",
       "      <td>b5b0b49d9903b852bf6c638643a89dc3</td>\n",
       "      <td>1</td>\n",
       "      <td>boleto</td>\n",
       "      <td>1</td>\n",
       "      <td>334.86</td>\n",
       "    </tr>\n",
       "    <tr>\n",
       "      <th>103813</th>\n",
       "      <td>2ab10ab526351fd3b05219e9eb4f7d9f</td>\n",
       "      <td>1</td>\n",
       "      <td>credit_card</td>\n",
       "      <td>8</td>\n",
       "      <td>366.73</td>\n",
       "    </tr>\n",
       "    <tr>\n",
       "      <th>103881</th>\n",
       "      <td>0406037ad97740d563a178ecc7a2075c</td>\n",
       "      <td>1</td>\n",
       "      <td>boleto</td>\n",
       "      <td>1</td>\n",
       "      <td>363.31</td>\n",
       "    </tr>\n",
       "  </tbody>\n",
       "</table>\n",
       "<p>1794 rows × 5 columns</p>\n",
       "</div>"
      ],
      "text/plain": [
       "                                order_id  payment_sequential payment_type  \\\n",
       "26      d0a945f85ba1074b60aac97ade7e240e                   1  credit_card   \n",
       "52      2e2c60b99754ae1e4d8b18846cfec9f2                   1  credit_card   \n",
       "54      95442deb81a5d91c97c0df96b431634a                   1       boleto   \n",
       "172     1594012ccc1b0770373ce691d697e5ae                   1  credit_card   \n",
       "177     b545ba7b0bd67a3128185c7214704319                   1  credit_card   \n",
       "...                                  ...                 ...          ...   \n",
       "103465  656689d74b6f04ec228f13e98fc9b15b                   1       boleto   \n",
       "103484  0cf1684e713ddfe42529ec72206b25b3                   1  credit_card   \n",
       "103498  b5b0b49d9903b852bf6c638643a89dc3                   1       boleto   \n",
       "103813  2ab10ab526351fd3b05219e9eb4f7d9f                   1  credit_card   \n",
       "103881  0406037ad97740d563a178ecc7a2075c                   1       boleto   \n",
       "\n",
       "        payment_installments  payment_value  \n",
       "26                         2         541.00  \n",
       "52                         4         542.66  \n",
       "54                         1         368.98  \n",
       "172                        8         362.17  \n",
       "177                        8         340.08  \n",
       "...                      ...            ...  \n",
       "103465                     1         548.90  \n",
       "103484                    10         551.49  \n",
       "103498                     1         334.86  \n",
       "103813                     8         366.73  \n",
       "103881                     1         363.31  \n",
       "\n",
       "[1794 rows x 5 columns]"
      ]
     },
     "execution_count": 72,
     "metadata": {},
     "output_type": "execute_result"
    }
   ],
   "source": [
    "outliers_p = detect_outliers_iqr(sp_payments_2018, 'payment_value')\n",
    "outliers_p"
   ]
  },
  {
   "cell_type": "code",
   "execution_count": 75,
   "metadata": {
    "execution": {
     "iopub.execute_input": "2025-04-17T03:07:17.142313Z",
     "iopub.status.busy": "2025-04-17T03:07:17.141950Z",
     "iopub.status.idle": "2025-04-17T03:07:17.194417Z",
     "shell.execute_reply": "2025-04-17T03:07:17.193675Z",
     "shell.execute_reply.started": "2025-04-17T03:07:17.142290Z"
    },
    "trusted": true
   },
   "outputs": [
    {
     "data": {
      "text/html": [
       "<div>\n",
       "<style scoped>\n",
       "    .dataframe tbody tr th:only-of-type {\n",
       "        vertical-align: middle;\n",
       "    }\n",
       "\n",
       "    .dataframe tbody tr th {\n",
       "        vertical-align: top;\n",
       "    }\n",
       "\n",
       "    .dataframe thead th {\n",
       "        text-align: right;\n",
       "    }\n",
       "</style>\n",
       "<table border=\"1\" class=\"dataframe\">\n",
       "  <thead>\n",
       "    <tr style=\"text-align: right;\">\n",
       "      <th></th>\n",
       "      <th>review_id</th>\n",
       "      <th>order_id</th>\n",
       "      <th>review_score</th>\n",
       "      <th>review_comment_title</th>\n",
       "      <th>review_comment_message</th>\n",
       "      <th>review_creation_date</th>\n",
       "      <th>review_answer_timestamp</th>\n",
       "      <th>month</th>\n",
       "    </tr>\n",
       "  </thead>\n",
       "  <tbody>\n",
       "    <tr>\n",
       "      <th>5</th>\n",
       "      <td>15197aa66ff4d0650b5434f1b46cda19</td>\n",
       "      <td>b18dcdf73be66366873cd26c5724d1dc</td>\n",
       "      <td>1</td>\n",
       "      <td>NaN</td>\n",
       "      <td>NaN</td>\n",
       "      <td>2018-04-13</td>\n",
       "      <td>2018-04-16 00:39:37</td>\n",
       "      <td>4</td>\n",
       "    </tr>\n",
       "    <tr>\n",
       "      <th>19</th>\n",
       "      <td>373cbeecea8286a2b66c97b1b157ec46</td>\n",
       "      <td>583174fbe37d3d5f0d6661be3aad1786</td>\n",
       "      <td>1</td>\n",
       "      <td>Não chegou meu produto</td>\n",
       "      <td>Péssimo</td>\n",
       "      <td>2018-08-15</td>\n",
       "      <td>2018-08-15 04:10:37</td>\n",
       "      <td>8</td>\n",
       "    </tr>\n",
       "    <tr>\n",
       "      <th>89</th>\n",
       "      <td>65dfeb60c40e3cbb0a1838285d86f885</td>\n",
       "      <td>a2714ecbf6eeb3bb9cd7dba6dc1c5e82</td>\n",
       "      <td>1</td>\n",
       "      <td>NaN</td>\n",
       "      <td>Pedi reembolso e sem resposta até momento</td>\n",
       "      <td>2018-03-08</td>\n",
       "      <td>2018-03-08 12:27:34</td>\n",
       "      <td>3</td>\n",
       "    </tr>\n",
       "    <tr>\n",
       "      <th>91</th>\n",
       "      <td>1090909faae22e5ab76903e8493063f1</td>\n",
       "      <td>a1341cb83bbf1b47392f4a3685d56bad</td>\n",
       "      <td>1</td>\n",
       "      <td>NaN</td>\n",
       "      <td>NaN</td>\n",
       "      <td>2018-03-07</td>\n",
       "      <td>2018-03-07 15:32:23</td>\n",
       "      <td>3</td>\n",
       "    </tr>\n",
       "    <tr>\n",
       "      <th>149</th>\n",
       "      <td>ef8ae544c432bb1053ba5990bd0d6227</td>\n",
       "      <td>e18ebd6286697a3f0f6fe267d8286cb2</td>\n",
       "      <td>1</td>\n",
       "      <td>NaN</td>\n",
       "      <td>EU NÃO RECEBI O PRODUTO E CONSTA NO SISTEMA QU...</td>\n",
       "      <td>2018-01-12</td>\n",
       "      <td>2018-01-13 00:28:49</td>\n",
       "      <td>1</td>\n",
       "    </tr>\n",
       "    <tr>\n",
       "      <th>...</th>\n",
       "      <td>...</td>\n",
       "      <td>...</td>\n",
       "      <td>...</td>\n",
       "      <td>...</td>\n",
       "      <td>...</td>\n",
       "      <td>...</td>\n",
       "      <td>...</td>\n",
       "      <td>...</td>\n",
       "    </tr>\n",
       "    <tr>\n",
       "      <th>99081</th>\n",
       "      <td>dfb01be03c8f304bb01e3d2d90719a5b</td>\n",
       "      <td>c5d41b216e4b42500c5da2be17a74065</td>\n",
       "      <td>1</td>\n",
       "      <td>NaN</td>\n",
       "      <td>Meus pedidos estão dando como entregues , mais...</td>\n",
       "      <td>2018-05-29</td>\n",
       "      <td>2018-05-31 13:35:06</td>\n",
       "      <td>5</td>\n",
       "    </tr>\n",
       "    <tr>\n",
       "      <th>99091</th>\n",
       "      <td>fade356e7332606aa22776d8d553cdce</td>\n",
       "      <td>837b75362f8a7c08c85182dfd16cb72d</td>\n",
       "      <td>1</td>\n",
       "      <td>NaN</td>\n",
       "      <td>Ainda nao recevi o produto.</td>\n",
       "      <td>2018-08-12</td>\n",
       "      <td>2018-08-12 13:51:31</td>\n",
       "      <td>8</td>\n",
       "    </tr>\n",
       "    <tr>\n",
       "      <th>99139</th>\n",
       "      <td>cadeddfc924c941517913adcc05dcb26</td>\n",
       "      <td>5f0729d8bd88589e8501140a9eb86ed3</td>\n",
       "      <td>2</td>\n",
       "      <td>NaN</td>\n",
       "      <td>nao satifez minhas expectativas, não funciona ...</td>\n",
       "      <td>2018-02-03</td>\n",
       "      <td>2018-02-06 11:52:01</td>\n",
       "      <td>2</td>\n",
       "    </tr>\n",
       "    <tr>\n",
       "      <th>99200</th>\n",
       "      <td>2ee221b28e5b6fceffac59487ed39348</td>\n",
       "      <td>f2d12dd37eaef72ed7b1186b2edefbcd</td>\n",
       "      <td>2</td>\n",
       "      <td>Foto enganosa</td>\n",
       "      <td>Foto muito diferente principalmente a graninha...</td>\n",
       "      <td>2018-03-28</td>\n",
       "      <td>2018-05-25 01:23:26</td>\n",
       "      <td>3</td>\n",
       "    </tr>\n",
       "    <tr>\n",
       "      <th>99203</th>\n",
       "      <td>5085bc489aa6b58a29c4f922d59ff826</td>\n",
       "      <td>18ed848509774f56cc8c1c0a1903ad7f</td>\n",
       "      <td>2</td>\n",
       "      <td>NaN</td>\n",
       "      <td>Tive um problema na entrega em que o correio c...</td>\n",
       "      <td>2018-02-21</td>\n",
       "      <td>2018-02-23 11:43:12</td>\n",
       "      <td>2</td>\n",
       "    </tr>\n",
       "  </tbody>\n",
       "</table>\n",
       "<p>2952 rows × 8 columns</p>\n",
       "</div>"
      ],
      "text/plain": [
       "                              review_id                          order_id  \\\n",
       "5      15197aa66ff4d0650b5434f1b46cda19  b18dcdf73be66366873cd26c5724d1dc   \n",
       "19     373cbeecea8286a2b66c97b1b157ec46  583174fbe37d3d5f0d6661be3aad1786   \n",
       "89     65dfeb60c40e3cbb0a1838285d86f885  a2714ecbf6eeb3bb9cd7dba6dc1c5e82   \n",
       "91     1090909faae22e5ab76903e8493063f1  a1341cb83bbf1b47392f4a3685d56bad   \n",
       "149    ef8ae544c432bb1053ba5990bd0d6227  e18ebd6286697a3f0f6fe267d8286cb2   \n",
       "...                                 ...                               ...   \n",
       "99081  dfb01be03c8f304bb01e3d2d90719a5b  c5d41b216e4b42500c5da2be17a74065   \n",
       "99091  fade356e7332606aa22776d8d553cdce  837b75362f8a7c08c85182dfd16cb72d   \n",
       "99139  cadeddfc924c941517913adcc05dcb26  5f0729d8bd88589e8501140a9eb86ed3   \n",
       "99200  2ee221b28e5b6fceffac59487ed39348  f2d12dd37eaef72ed7b1186b2edefbcd   \n",
       "99203  5085bc489aa6b58a29c4f922d59ff826  18ed848509774f56cc8c1c0a1903ad7f   \n",
       "\n",
       "       review_score     review_comment_title  \\\n",
       "5                 1                      NaN   \n",
       "19                1  Não chegou meu produto    \n",
       "89                1                      NaN   \n",
       "91                1                      NaN   \n",
       "149               1                      NaN   \n",
       "...             ...                      ...   \n",
       "99081             1                      NaN   \n",
       "99091             1                      NaN   \n",
       "99139             2                      NaN   \n",
       "99200             2           Foto enganosa    \n",
       "99203             2                      NaN   \n",
       "\n",
       "                                  review_comment_message review_creation_date  \\\n",
       "5                                                    NaN           2018-04-13   \n",
       "19                                               Péssimo           2018-08-15   \n",
       "89            Pedi reembolso e sem resposta até momento            2018-03-08   \n",
       "91                                                   NaN           2018-03-07   \n",
       "149    EU NÃO RECEBI O PRODUTO E CONSTA NO SISTEMA QU...           2018-01-12   \n",
       "...                                                  ...                  ...   \n",
       "99081  Meus pedidos estão dando como entregues , mais...           2018-05-29   \n",
       "99091                        Ainda nao recevi o produto.           2018-08-12   \n",
       "99139  nao satifez minhas expectativas, não funciona ...           2018-02-03   \n",
       "99200  Foto muito diferente principalmente a graninha...           2018-03-28   \n",
       "99203  Tive um problema na entrega em que o correio c...           2018-02-21   \n",
       "\n",
       "      review_answer_timestamp  month  \n",
       "5         2018-04-16 00:39:37      4  \n",
       "19        2018-08-15 04:10:37      8  \n",
       "89        2018-03-08 12:27:34      3  \n",
       "91        2018-03-07 15:32:23      3  \n",
       "149       2018-01-13 00:28:49      1  \n",
       "...                       ...    ...  \n",
       "99081     2018-05-31 13:35:06      5  \n",
       "99091     2018-08-12 13:51:31      8  \n",
       "99139     2018-02-06 11:52:01      2  \n",
       "99200     2018-05-25 01:23:26      3  \n",
       "99203     2018-02-23 11:43:12      2  \n",
       "\n",
       "[2952 rows x 8 columns]"
      ]
     },
     "execution_count": 75,
     "metadata": {},
     "output_type": "execute_result"
    }
   ],
   "source": [
    "outliers = detect_outliers_iqr(sp_reviews_2018, 'review_score')\n",
    "outliers"
   ]
  },
  {
   "cell_type": "markdown",
   "metadata": {
    "id": "7dtxhAPrkhPL"
   },
   "source": [
    "**Insight:**\n",
    "- tidak terdapat missing value\n",
    "- tidak terdapat duplicate data\n",
    "- ada sekitar 7% outliers di nilai pembayaran\n",
    "- ada sekitar 12% outliers di skor review"
   ]
  },
  {
   "cell_type": "markdown",
   "metadata": {
    "id": "EhN5R4hr8DC1"
   },
   "source": [
    "### Cleaning Data"
   ]
  },
  {
   "cell_type": "markdown",
   "metadata": {
    "id": "Q_5ejIqckiSP"
   },
   "source": [
    "**Insight:**\n",
    "- Outlier tidak ditangani secara khusus karena diperlukan investigasi lebih lanjut untuk memastikan apakah outlier tersebut merupakan kesalahan data atau justru mencerminkan kondisi sebenarnya.\n",
    "- Selain itu, tidak dilakukan proses penghapusan (dropping) maupun imputasi data, karena hal tersebut tidak dibutuhkan untuk menjawab dua pertanyaan analisis yang telah disebutkan sebelumnya."
   ]
  },
  {
   "cell_type": "markdown",
   "metadata": {
    "id": "gp-Y6wU38DC1"
   },
   "source": [
    "## Exploratory Data Analysis (EDA)"
   ]
  },
  {
   "cell_type": "markdown",
   "metadata": {
    "id": "MW7WF2kr8DC1"
   },
   "source": [
    "### Explore Central Tendency by Month"
   ]
  },
  {
   "cell_type": "code",
   "execution_count": 76,
   "metadata": {},
   "outputs": [],
   "source": [
    "# Prepare monthly payment data\n",
    "monthly_payments = sp_payments_2018.merge(\n",
    "    sao_paulo_orders_2018[['order_id', 'month']], \n",
    "    on='order_id', \n",
    "    how='left'\n",
    ")"
   ]
  },
  {
   "cell_type": "code",
   "execution_count": 78,
   "metadata": {},
   "outputs": [],
   "source": [
    "# Calculate monthly payment statistics\n",
    "monthly_payment_stats = monthly_payments.groupby('month').agg(\n",
    "    total_payment=('payment_value', 'sum'),\n",
    "    avg_payment=('payment_value', 'mean'),\n",
    "    order_count=('order_id', 'nunique')\n",
    ").reset_index()"
   ]
  },
  {
   "cell_type": "code",
   "execution_count": 79,
   "metadata": {},
   "outputs": [],
   "source": [
    "#Calculate monthly review statistics\n",
    "monthly_review_stats = sp_reviews_2018.groupby('month').agg(\n",
    "    avg_score=('review_score', 'mean'),\n",
    "    review_count=('review_id', 'count')\n",
    ").reset_index()"
   ]
  },
  {
   "cell_type": "code",
   "execution_count": 83,
   "metadata": {},
   "outputs": [
    {
     "data": {
      "text/plain": [
       "count     10.000000\n",
       "mean     165.020124\n",
       "std       82.879280\n",
       "min      128.363226\n",
       "25%      135.912673\n",
       "50%      139.275169\n",
       "75%      143.338270\n",
       "max      400.363750\n",
       "Name: avg_payment, dtype: float64"
      ]
     },
     "execution_count": 83,
     "metadata": {},
     "output_type": "execute_result"
    }
   ],
   "source": [
    "monthly_payment_stats['avg_payment'].describe()"
   ]
  },
  {
   "cell_type": "code",
   "execution_count": 82,
   "metadata": {},
   "outputs": [
    {
     "data": {
      "text/plain": [
       "count    8.000000\n",
       "mean     4.198373\n",
       "std      0.115121\n",
       "min      3.979211\n",
       "25%      4.163892\n",
       "50%      4.224971\n",
       "75%      4.282395\n",
       "max      4.317053\n",
       "Name: avg_score, dtype: float64"
      ]
     },
     "execution_count": 82,
     "metadata": {},
     "output_type": "execute_result"
    }
   ],
   "source": [
    "monthly_review_stats['avg_score'].describe()"
   ]
  },
  {
   "cell_type": "code",
   "execution_count": 80,
   "metadata": {},
   "outputs": [],
   "source": [
    "# Add month name for better visualization\n",
    "month_names = {\n",
    "    1: 'Jan', 2: 'Feb', 3: 'Mar', 4: 'Apr', 5: 'May', 6: 'Jun',\n",
    "    7: 'Jul', 8: 'Aug', 9: 'Sep', 10: 'Oct', 11: 'Nov', 12: 'Dec'\n",
    "}\n",
    "monthly_payment_stats['month_name'] = monthly_payment_stats['month'].map(month_names)"
   ]
  },
  {
   "cell_type": "code",
   "execution_count": 84,
   "metadata": {},
   "outputs": [],
   "source": [
    "monthly_review_stats['month_name'] = monthly_review_stats['month'].map(month_names)\n",
    "\n",
    "# Ensure all months are included (even if no data)\n",
    "all_months = pd.DataFrame({'month': range(1, 13)})\n",
    "all_months['month_name'] = all_months['month'].map(month_names)\n",
    "\n",
    "monthly_payment_stats = all_months.merge(monthly_payment_stats, on='month', how='left').fillna(0)\n",
    "monthly_review_stats = all_months.merge(monthly_review_stats, on='month', how='left').fillna(0)"
   ]
  },
  {
   "cell_type": "code",
   "execution_count": 87,
   "metadata": {},
   "outputs": [
    {
     "data": {
      "text/html": [
       "<div>\n",
       "<style scoped>\n",
       "    .dataframe tbody tr th:only-of-type {\n",
       "        vertical-align: middle;\n",
       "    }\n",
       "\n",
       "    .dataframe tbody tr th {\n",
       "        vertical-align: top;\n",
       "    }\n",
       "\n",
       "    .dataframe thead th {\n",
       "        text-align: right;\n",
       "    }\n",
       "</style>\n",
       "<table border=\"1\" class=\"dataframe\">\n",
       "  <thead>\n",
       "    <tr style=\"text-align: right;\">\n",
       "      <th></th>\n",
       "      <th>month</th>\n",
       "      <th>month_name_x</th>\n",
       "      <th>total_payment</th>\n",
       "      <th>avg_payment</th>\n",
       "      <th>order_count</th>\n",
       "      <th>month_name_y</th>\n",
       "    </tr>\n",
       "  </thead>\n",
       "  <tbody>\n",
       "    <tr>\n",
       "      <th>0</th>\n",
       "      <td>1</td>\n",
       "      <td>Jan</td>\n",
       "      <td>430306.48</td>\n",
       "      <td>135.273964</td>\n",
       "      <td>3052.0</td>\n",
       "      <td>Jan</td>\n",
       "    </tr>\n",
       "    <tr>\n",
       "      <th>1</th>\n",
       "      <td>2</td>\n",
       "      <td>Feb</td>\n",
       "      <td>358518.49</td>\n",
       "      <td>128.363226</td>\n",
       "      <td>2703.0</td>\n",
       "      <td>Feb</td>\n",
       "    </tr>\n",
       "    <tr>\n",
       "      <th>2</th>\n",
       "      <td>3</td>\n",
       "      <td>Mar</td>\n",
       "      <td>441724.26</td>\n",
       "      <td>140.229924</td>\n",
       "      <td>3037.0</td>\n",
       "      <td>Mar</td>\n",
       "    </tr>\n",
       "    <tr>\n",
       "      <th>3</th>\n",
       "      <td>4</td>\n",
       "      <td>Apr</td>\n",
       "      <td>452747.67</td>\n",
       "      <td>142.463081</td>\n",
       "      <td>3059.0</td>\n",
       "      <td>Apr</td>\n",
       "    </tr>\n",
       "    <tr>\n",
       "      <th>4</th>\n",
       "      <td>5</td>\n",
       "      <td>May</td>\n",
       "      <td>492978.52</td>\n",
       "      <td>148.936109</td>\n",
       "      <td>3207.0</td>\n",
       "      <td>May</td>\n",
       "    </tr>\n",
       "  </tbody>\n",
       "</table>\n",
       "</div>"
      ],
      "text/plain": [
       "   month month_name_x  total_payment  avg_payment  order_count month_name_y\n",
       "0      1          Jan      430306.48   135.273964       3052.0          Jan\n",
       "1      2          Feb      358518.49   128.363226       2703.0          Feb\n",
       "2      3          Mar      441724.26   140.229924       3037.0          Mar\n",
       "3      4          Apr      452747.67   142.463081       3059.0          Apr\n",
       "4      5          May      492978.52   148.936109       3207.0          May"
      ]
     },
     "execution_count": 87,
     "metadata": {},
     "output_type": "execute_result"
    }
   ],
   "source": [
    "monthly_payment_stats.head()"
   ]
  },
  {
   "cell_type": "markdown",
   "metadata": {},
   "source": [
    "#### Insights\n",
    "- rerata nilai pembayaran pada tahun 2018 untuk sao paulo adalah 165 brazilian real (paling rendahnya 128 dan paling tingginya 400)\n",
    "- rerata skor pada tahun 2018 untuk sao paulo adalah 4.2 (paling rendahnya 3.9 dan paling tingginya 4.3)\n",
    "- data hanya tersedia dari bulan januari sampai oktober untuk data nilai pembayaran\n",
    "- data hanya tersedia dari bulan januari sampai agustus untuk data review"
   ]
  },
  {
   "cell_type": "markdown",
   "metadata": {
    "id": "zsyZjqak8DC2"
   },
   "source": [
    "## Visualization"
   ]
  },
  {
   "cell_type": "markdown",
   "metadata": {
    "id": "HZxOiQ6n8DC2"
   },
   "source": [
    "### Pertanyaan 1:"
   ]
  },
  {
   "cell_type": "code",
   "execution_count": 96,
   "metadata": {},
   "outputs": [],
   "source": [
    "# Create Altair visualization for average payment by month\n",
    "avg_payment_chart = alt.Chart(monthly_payment_stats).mark_bar().encode(\n",
    "    x=alt.X('month:N', title='Month', sort=list(month_names.values())),\n",
    "    y=alt.Y('avg_payment:Q', title='Average Payment Value (R$)'),\n",
    "    tooltip=['month', 'avg_payment']\n",
    ").properties(\n",
    "    title='Average Payment Value by Month - São Paulo (2018)',\n",
    "    width=600,\n",
    "    height=400\n",
    ")\n",
    "\n",
    "# Add text labels for the average payment values\n",
    "payment_text = avg_payment_chart.mark_text(\n",
    "    align='center',\n",
    "    baseline='top',\n",
    "    dy=10\n",
    ").encode(\n",
    "    text=alt.Text('avg_payment:Q', format=',.2f')\n",
    ")"
   ]
  },
  {
   "cell_type": "code",
   "execution_count": 97,
   "metadata": {},
   "outputs": [
    {
     "data": {
      "text/html": [
       "\n",
       "<style>\n",
       "  #altair-viz-1a9ecbcccf034d00a89776bf9b94c752.vega-embed {\n",
       "    width: 100%;\n",
       "    display: flex;\n",
       "  }\n",
       "\n",
       "  #altair-viz-1a9ecbcccf034d00a89776bf9b94c752.vega-embed details,\n",
       "  #altair-viz-1a9ecbcccf034d00a89776bf9b94c752.vega-embed details summary {\n",
       "    position: relative;\n",
       "  }\n",
       "</style>\n",
       "<div id=\"altair-viz-1a9ecbcccf034d00a89776bf9b94c752\"></div>\n",
       "<script type=\"text/javascript\">\n",
       "  var VEGA_DEBUG = (typeof VEGA_DEBUG == \"undefined\") ? {} : VEGA_DEBUG;\n",
       "  (function(spec, embedOpt){\n",
       "    let outputDiv = document.currentScript.previousElementSibling;\n",
       "    if (outputDiv.id !== \"altair-viz-1a9ecbcccf034d00a89776bf9b94c752\") {\n",
       "      outputDiv = document.getElementById(\"altair-viz-1a9ecbcccf034d00a89776bf9b94c752\");\n",
       "    }\n",
       "\n",
       "    const paths = {\n",
       "      \"vega\": \"https://cdn.jsdelivr.net/npm/vega@5?noext\",\n",
       "      \"vega-lib\": \"https://cdn.jsdelivr.net/npm/vega-lib?noext\",\n",
       "      \"vega-lite\": \"https://cdn.jsdelivr.net/npm/vega-lite@5.20.1?noext\",\n",
       "      \"vega-embed\": \"https://cdn.jsdelivr.net/npm/vega-embed@6?noext\",\n",
       "    };\n",
       "\n",
       "    function maybeLoadScript(lib, version) {\n",
       "      var key = `${lib.replace(\"-\", \"\")}_version`;\n",
       "      return (VEGA_DEBUG[key] == version) ?\n",
       "        Promise.resolve(paths[lib]) :\n",
       "        new Promise(function(resolve, reject) {\n",
       "          var s = document.createElement('script');\n",
       "          document.getElementsByTagName(\"head\")[0].appendChild(s);\n",
       "          s.async = true;\n",
       "          s.onload = () => {\n",
       "            VEGA_DEBUG[key] = version;\n",
       "            return resolve(paths[lib]);\n",
       "          };\n",
       "          s.onerror = () => reject(`Error loading script: ${paths[lib]}`);\n",
       "          s.src = paths[lib];\n",
       "        });\n",
       "    }\n",
       "\n",
       "    function showError(err) {\n",
       "      outputDiv.innerHTML = `<div class=\"error\" style=\"color:red;\">${err}</div>`;\n",
       "      throw err;\n",
       "    }\n",
       "\n",
       "    function displayChart(vegaEmbed) {\n",
       "      vegaEmbed(outputDiv, spec, embedOpt)\n",
       "        .catch(err => showError(`Javascript Error: ${err.message}<br>This usually means there's a typo in your chart specification. See the javascript console for the full traceback.`));\n",
       "    }\n",
       "\n",
       "    if(typeof define === \"function\" && define.amd) {\n",
       "      requirejs.config({paths});\n",
       "      let deps = [\"vega-embed\"];\n",
       "      require(deps, displayChart, err => showError(`Error loading script: ${err.message}`));\n",
       "    } else {\n",
       "      maybeLoadScript(\"vega\", \"5\")\n",
       "        .then(() => maybeLoadScript(\"vega-lite\", \"5.20.1\"))\n",
       "        .then(() => maybeLoadScript(\"vega-embed\", \"6\"))\n",
       "        .catch(showError)\n",
       "        .then(() => displayChart(vegaEmbed));\n",
       "    }\n",
       "  })({\"config\": {\"view\": {\"continuousWidth\": 300, \"continuousHeight\": 300}}, \"layer\": [{\"mark\": {\"type\": \"bar\"}, \"encoding\": {\"tooltip\": [{\"field\": \"month\", \"type\": \"quantitative\"}, {\"field\": \"avg_payment\", \"type\": \"quantitative\"}], \"x\": {\"field\": \"month\", \"sort\": [\"Jan\", \"Feb\", \"Mar\", \"Apr\", \"May\", \"Jun\", \"Jul\", \"Aug\", \"Sep\", \"Oct\", \"Nov\", \"Dec\"], \"title\": \"Month\", \"type\": \"nominal\"}, \"y\": {\"field\": \"avg_payment\", \"title\": \"Average Payment Value (R$)\", \"type\": \"quantitative\"}}, \"title\": \"Average Payment Value by Month - S\\u00e3o Paulo (2018)\"}, {\"mark\": {\"type\": \"text\", \"align\": \"center\", \"baseline\": \"top\", \"dy\": 10}, \"encoding\": {\"text\": {\"field\": \"avg_payment\", \"format\": \",.2f\", \"type\": \"quantitative\"}, \"tooltip\": [{\"field\": \"month\", \"type\": \"quantitative\"}, {\"field\": \"avg_payment\", \"type\": \"quantitative\"}], \"x\": {\"field\": \"month\", \"sort\": [\"Jan\", \"Feb\", \"Mar\", \"Apr\", \"May\", \"Jun\", \"Jul\", \"Aug\", \"Sep\", \"Oct\", \"Nov\", \"Dec\"], \"title\": \"Month\", \"type\": \"nominal\"}, \"y\": {\"field\": \"avg_payment\", \"title\": \"Average Payment Value (R$)\", \"type\": \"quantitative\"}}, \"title\": \"Average Payment Value by Month - S\\u00e3o Paulo (2018)\"}], \"data\": {\"name\": \"data-37df6e7d21bfa0697260ec8843af0d5e\"}, \"height\": 400, \"width\": 600, \"$schema\": \"https://vega.github.io/schema/vega-lite/v5.20.1.json\", \"datasets\": {\"data-37df6e7d21bfa0697260ec8843af0d5e\": [{\"month\": 1, \"month_name_x\": \"Jan\", \"total_payment\": 430306.48, \"avg_payment\": 135.27396416221313, \"order_count\": 3052.0, \"month_name_y\": \"Jan\"}, {\"month\": 2, \"month_name_x\": \"Feb\", \"total_payment\": 358518.49, \"avg_payment\": 128.36322592194773, \"order_count\": 2703.0, \"month_name_y\": \"Feb\"}, {\"month\": 3, \"month_name_x\": \"Mar\", \"total_payment\": 441724.26, \"avg_payment\": 140.22992380952383, \"order_count\": 3037.0, \"month_name_y\": \"Mar\"}, {\"month\": 4, \"month_name_x\": \"Apr\", \"total_payment\": 452747.67, \"avg_payment\": 142.46308055380743, \"order_count\": 3059.0, \"month_name_y\": \"Apr\"}, {\"month\": 5, \"month_name_x\": \"May\", \"total_payment\": 492978.52, \"avg_payment\": 148.9361087613293, \"order_count\": 3207.0, \"month_name_y\": \"May\"}, {\"month\": 6, \"month_name_x\": \"Jun\", \"total_payment\": 396564.63, \"avg_payment\": 138.32041506801534, \"order_count\": 2773.0, \"month_name_y\": \"Jun\"}, {\"month\": 7, \"month_name_x\": \"Jul\", \"total_payment\": 383213.58, \"avg_payment\": 134.791973267675, \"order_count\": 2777.0, \"month_name_y\": \"Jul\"}, {\"month\": 8, \"month_name_x\": \"Aug\", \"total_payment\": 459934.71, \"avg_payment\": 137.8288013185496, \"order_count\": 3253.0, \"month_name_y\": \"Aug\"}, {\"month\": 9, \"month_name_x\": \"Sep\", \"total_payment\": 3202.9100000000003, \"avg_payment\": 400.36375000000004, \"order_count\": 8.0, \"month_name_y\": \"Sep\"}, {\"month\": 10, \"month_name_x\": \"Oct\", \"total_payment\": 287.26, \"avg_payment\": 143.63, \"order_count\": 2.0, \"month_name_y\": \"Oct\"}, {\"month\": 11, \"month_name_x\": \"Nov\", \"total_payment\": 0.0, \"avg_payment\": 0.0, \"order_count\": 0.0, \"month_name_y\": 0}, {\"month\": 12, \"month_name_x\": \"Dec\", \"total_payment\": 0.0, \"avg_payment\": 0.0, \"order_count\": 0.0, \"month_name_y\": 0}]}}, {\"mode\": \"vega-lite\"});\n",
       "</script>"
      ],
      "text/plain": [
       "alt.LayerChart(...)"
      ]
     },
     "metadata": {},
     "output_type": "display_data"
    }
   ],
   "source": [
    "# Display the charts with text labels\n",
    "payment_chart_with_text = avg_payment_chart + payment_text\n",
    "\n",
    "# Show the charts\n",
    "payment_chart_with_text.display()"
   ]
  },
  {
   "cell_type": "markdown",
   "metadata": {
    "id": "DgHI7CiU8DC2"
   },
   "source": [
    "### Pertanyaan 2:"
   ]
  },
  {
   "cell_type": "code",
   "execution_count": 101,
   "metadata": {},
   "outputs": [],
   "source": [
    "# Create Altair visualization for average review score by month\n",
    "avg_review_chart = alt.Chart(monthly_review_stats).mark_bar(color='orange').encode(\n",
    "    x=alt.X('month:N', title='Month', sort=list(month_names.values())),\n",
    "    y=alt.Y('avg_score:Q', title='Average Review Score (1-5)', scale=alt.Scale(domain=[0, 5])),\n",
    "    tooltip=['month', 'avg_score']\n",
    ").properties(\n",
    "    title='Average Review Score by Month - São Paulo (2018)',\n",
    "    width=600,\n",
    "    height=400\n",
    ")\n",
    "\n",
    "# Add text labels for the average review scores\n",
    "review_text = avg_review_chart.mark_text(\n",
    "    align='center',\n",
    "    baseline='top',\n",
    "    dy=10\n",
    ").encode(\n",
    "    text=alt.Text('avg_score:Q', format='.2f')\n",
    ")"
   ]
  },
  {
   "cell_type": "code",
   "execution_count": 102,
   "metadata": {},
   "outputs": [
    {
     "data": {
      "text/html": [
       "\n",
       "<style>\n",
       "  #altair-viz-568aa8a14eb941c682725d05e380ab99.vega-embed {\n",
       "    width: 100%;\n",
       "    display: flex;\n",
       "  }\n",
       "\n",
       "  #altair-viz-568aa8a14eb941c682725d05e380ab99.vega-embed details,\n",
       "  #altair-viz-568aa8a14eb941c682725d05e380ab99.vega-embed details summary {\n",
       "    position: relative;\n",
       "  }\n",
       "</style>\n",
       "<div id=\"altair-viz-568aa8a14eb941c682725d05e380ab99\"></div>\n",
       "<script type=\"text/javascript\">\n",
       "  var VEGA_DEBUG = (typeof VEGA_DEBUG == \"undefined\") ? {} : VEGA_DEBUG;\n",
       "  (function(spec, embedOpt){\n",
       "    let outputDiv = document.currentScript.previousElementSibling;\n",
       "    if (outputDiv.id !== \"altair-viz-568aa8a14eb941c682725d05e380ab99\") {\n",
       "      outputDiv = document.getElementById(\"altair-viz-568aa8a14eb941c682725d05e380ab99\");\n",
       "    }\n",
       "\n",
       "    const paths = {\n",
       "      \"vega\": \"https://cdn.jsdelivr.net/npm/vega@5?noext\",\n",
       "      \"vega-lib\": \"https://cdn.jsdelivr.net/npm/vega-lib?noext\",\n",
       "      \"vega-lite\": \"https://cdn.jsdelivr.net/npm/vega-lite@5.20.1?noext\",\n",
       "      \"vega-embed\": \"https://cdn.jsdelivr.net/npm/vega-embed@6?noext\",\n",
       "    };\n",
       "\n",
       "    function maybeLoadScript(lib, version) {\n",
       "      var key = `${lib.replace(\"-\", \"\")}_version`;\n",
       "      return (VEGA_DEBUG[key] == version) ?\n",
       "        Promise.resolve(paths[lib]) :\n",
       "        new Promise(function(resolve, reject) {\n",
       "          var s = document.createElement('script');\n",
       "          document.getElementsByTagName(\"head\")[0].appendChild(s);\n",
       "          s.async = true;\n",
       "          s.onload = () => {\n",
       "            VEGA_DEBUG[key] = version;\n",
       "            return resolve(paths[lib]);\n",
       "          };\n",
       "          s.onerror = () => reject(`Error loading script: ${paths[lib]}`);\n",
       "          s.src = paths[lib];\n",
       "        });\n",
       "    }\n",
       "\n",
       "    function showError(err) {\n",
       "      outputDiv.innerHTML = `<div class=\"error\" style=\"color:red;\">${err}</div>`;\n",
       "      throw err;\n",
       "    }\n",
       "\n",
       "    function displayChart(vegaEmbed) {\n",
       "      vegaEmbed(outputDiv, spec, embedOpt)\n",
       "        .catch(err => showError(`Javascript Error: ${err.message}<br>This usually means there's a typo in your chart specification. See the javascript console for the full traceback.`));\n",
       "    }\n",
       "\n",
       "    if(typeof define === \"function\" && define.amd) {\n",
       "      requirejs.config({paths});\n",
       "      let deps = [\"vega-embed\"];\n",
       "      require(deps, displayChart, err => showError(`Error loading script: ${err.message}`));\n",
       "    } else {\n",
       "      maybeLoadScript(\"vega\", \"5\")\n",
       "        .then(() => maybeLoadScript(\"vega-lite\", \"5.20.1\"))\n",
       "        .then(() => maybeLoadScript(\"vega-embed\", \"6\"))\n",
       "        .catch(showError)\n",
       "        .then(() => displayChart(vegaEmbed));\n",
       "    }\n",
       "  })({\"config\": {\"view\": {\"continuousWidth\": 300, \"continuousHeight\": 300}}, \"layer\": [{\"mark\": {\"type\": \"bar\", \"color\": \"orange\"}, \"encoding\": {\"tooltip\": [{\"field\": \"month\", \"type\": \"quantitative\"}, {\"field\": \"avg_score\", \"type\": \"quantitative\"}], \"x\": {\"field\": \"month\", \"sort\": [\"Jan\", \"Feb\", \"Mar\", \"Apr\", \"May\", \"Jun\", \"Jul\", \"Aug\", \"Sep\", \"Oct\", \"Nov\", \"Dec\"], \"title\": \"Month\", \"type\": \"nominal\"}, \"y\": {\"field\": \"avg_score\", \"scale\": {\"domain\": [0, 5]}, \"title\": \"Average Review Score (1-5)\", \"type\": \"quantitative\"}}, \"title\": \"Average Review Score by Month - S\\u00e3o Paulo (2018)\"}, {\"mark\": {\"type\": \"text\", \"align\": \"center\", \"baseline\": \"top\", \"dy\": 10}, \"encoding\": {\"text\": {\"field\": \"avg_score\", \"format\": \".2f\", \"type\": \"quantitative\"}, \"tooltip\": [{\"field\": \"month\", \"type\": \"quantitative\"}, {\"field\": \"avg_score\", \"type\": \"quantitative\"}], \"x\": {\"field\": \"month\", \"sort\": [\"Jan\", \"Feb\", \"Mar\", \"Apr\", \"May\", \"Jun\", \"Jul\", \"Aug\", \"Sep\", \"Oct\", \"Nov\", \"Dec\"], \"title\": \"Month\", \"type\": \"nominal\"}, \"y\": {\"field\": \"avg_score\", \"scale\": {\"domain\": [0, 5]}, \"title\": \"Average Review Score (1-5)\", \"type\": \"quantitative\"}}, \"title\": \"Average Review Score by Month - S\\u00e3o Paulo (2018)\"}], \"data\": {\"name\": \"data-20acad8393104440a9a0585cfab40116\"}, \"height\": 400, \"width\": 600, \"$schema\": \"https://vega.github.io/schema/vega-lite/v5.20.1.json\", \"datasets\": {\"data-20acad8393104440a9a0585cfab40116\": [{\"month\": 1, \"month_name_x\": \"Jan\", \"avg_score\": 4.2846153846153845, \"review_count\": 1950.0, \"month_name_y\": \"Jan\"}, {\"month\": 2, \"month_name_x\": \"Feb\", \"avg_score\": 4.083969465648855, \"review_count\": 2620.0, \"month_name_y\": \"Feb\"}, {\"month\": 3, \"month_name_x\": \"Mar\", \"avg_score\": 3.979211250382146, \"review_count\": 3271.0, \"month_name_y\": \"Mar\"}, {\"month\": 4, \"month_name_x\": \"Apr\", \"avg_score\": 4.195694087403599, \"review_count\": 3112.0, \"month_name_y\": \"Apr\"}, {\"month\": 5, \"month_name_x\": \"May\", \"avg_score\": 4.2816553428042, \"review_count\": 3238.0, \"month_name_y\": \"May\"}, {\"month\": 6, \"month_name_x\": \"Jun\", \"avg_score\": 4.254248366013072, \"review_count\": 3060.0, \"month_name_y\": \"Jun\"}, {\"month\": 7, \"month_name_x\": \"Jul\", \"avg_score\": 4.31705298013245, \"review_count\": 2416.0, \"month_name_y\": \"Jul\"}, {\"month\": 8, \"month_name_x\": \"Aug\", \"avg_score\": 4.190533397405094, \"review_count\": 4162.0, \"month_name_y\": \"Aug\"}, {\"month\": 9, \"month_name_x\": \"Sep\", \"avg_score\": 0.0, \"review_count\": 0.0, \"month_name_y\": 0}, {\"month\": 10, \"month_name_x\": \"Oct\", \"avg_score\": 0.0, \"review_count\": 0.0, \"month_name_y\": 0}, {\"month\": 11, \"month_name_x\": \"Nov\", \"avg_score\": 0.0, \"review_count\": 0.0, \"month_name_y\": 0}, {\"month\": 12, \"month_name_x\": \"Dec\", \"avg_score\": 0.0, \"review_count\": 0.0, \"month_name_y\": 0}]}}, {\"mode\": \"vega-lite\"});\n",
       "</script>"
      ],
      "text/plain": [
       "alt.LayerChart(...)"
      ]
     },
     "metadata": {},
     "output_type": "display_data"
    }
   ],
   "source": [
    "review_chart_with_text = avg_review_chart + review_text\n",
    "review_chart_with_text.display()"
   ]
  },
  {
   "cell_type": "markdown",
   "metadata": {
    "id": "_WeHlCeX8DC2"
   },
   "source": [
    "## Conclusion"
   ]
  },
  {
   "cell_type": "markdown",
   "metadata": {},
   "source": [
    "### Temuan\n",
    "- ada lonjakan rerata nilai pembelian pada bulan november 2018 sebesar 400 brazilian real, sedangkan bulan selainnya tidak ada pergerakan yang drastis (cenderung stabil)\n",
    "- ada penurunan rerata review pada bulan maret 2018 sebesar 3.98, sedangkan di bulan lainnya skor review cukup bagus dan tidak ada pergerakan yang drastis (cenderung stabil)\n",
    "\n",
    "### Rekomendasi\n",
    "- perlu diadakan investigasi apakah lonjakan tersebut berasosiasi dengan strategi marketing tertentu atau tidak, sehingga inisiatifnya bisa direplikasi di bulan lain\n",
    "- perlu adanya analisis lanjutan terkait penurunan review di bulan maret, yang selanjutnya bisa diketahui apa akar masalah yang menjadi penyebab penurunan tersebut sehingga dapat diselesaikan dan dicegah di kemudian hari"
   ]
  }
 ],
 "metadata": {
  "colab": {
   "provenance": [
    {
     "file_id": "1ug4Ox4qIFDSo1koFA0XiNJE-ce12rECy",
     "timestamp": 1744796008500
    }
   ]
  },
  "kaggle": {
   "accelerator": "none",
   "dataSources": [
    {
     "datasetId": 55151,
     "sourceId": 2669146,
     "sourceType": "datasetVersion"
    }
   ],
   "dockerImageVersionId": 31012,
   "isGpuEnabled": false,
   "isInternetEnabled": true,
   "language": "python",
   "sourceType": "notebook"
  },
  "kernelspec": {
   "display_name": ".venv",
   "language": "python",
   "name": "python3"
  },
  "language_info": {
   "codemirror_mode": {
    "name": "ipython",
    "version": 3
   },
   "file_extension": ".py",
   "mimetype": "text/x-python",
   "name": "python",
   "nbconvert_exporter": "python",
   "pygments_lexer": "ipython3",
   "version": "3.13.2"
  }
 },
 "nbformat": 4,
 "nbformat_minor": 4
}
